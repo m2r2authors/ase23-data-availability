{
 "cells": [
  {
   "cell_type": "code",
   "execution_count": null,
   "id": "848e38b5",
   "metadata": {},
   "outputs": [],
   "source": [
    "apt-get install -y zip"
   ]
  },
  {
   "cell_type": "code",
   "execution_count": null,
   "id": "f8dbd495",
   "metadata": {},
   "outputs": [],
   "source": [
    "# setup huggingface env\n",
    "pip install transformers==4.21.3\n",
    "pip install evaluate\n",
    "pip install datasets\n",
    "pip install wandb\n",
    "pip install faiss-gpu\n",
    "pip install matplotlib\n",
    "pip install rank_bm25\n",
    "pip install seaborn"
   ]
  },
  {
   "cell_type": "code",
   "execution_count": null,
   "id": "f3583e19",
   "metadata": {},
   "outputs": [],
   "source": []
  }
 ],
 "metadata": {
  "kernelspec": {
   "display_name": "Bash",
   "language": "bash",
   "name": "bash"
  },
  "language_info": {
   "codemirror_mode": "shell",
   "file_extension": ".sh",
   "mimetype": "text/x-sh",
   "name": "bash"
  }
 },
 "nbformat": 4,
 "nbformat_minor": 5
}
